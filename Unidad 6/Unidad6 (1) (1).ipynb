{
  "cells": [
    {
      "cell_type": "code",
      "execution_count": 27,
      "id": "860f259f-e64e-4ac4-805f-f13606fda27c",
      "metadata": {
        "trusted": true
      },
      "outputs": [
        {
          "name": "stdout",
          "output_type": "stream",
          "text": [
            "5.0\n",
            "<class 'float'>\n"
          ]
        }
      ],
      "source": [
        "# convertir de int a float\n",
        "x = 5\n",
        "y = float(x)\n",
        "print(y) \n",
        "print(type(y))"
      ]
    },
    {
      "cell_type": "code",
      "execution_count": 5,
      "id": "205e27c1-1c6c-46d9-a5fa-af6ea8ceeeec",
      "metadata": {
        "trusted": true
      },
      "outputs": [
        {
          "name": "stdout",
          "output_type": "stream",
          "text": [
            "5\n",
            "<class 'int'>\n"
          ]
        }
      ],
      "source": [
        "#de float a int\n",
        "a = 5.9\n",
        "b = int(a)\n",
        "print(b) \n",
        "print(type(b))"
      ]
    },
    {
      "cell_type": "code",
      "execution_count": 7,
      "id": "d3832f74-607f-433a-8ca7-8f7fe376f190",
      "metadata": {
        "trusted": true
      },
      "outputs": [
        {
          "name": "stdout",
          "output_type": "stream",
          "text": [
            "123\n",
            "<class 'int'>\n"
          ]
        }
      ],
      "source": [
        "# str a int\n",
        "s = \"123\"\n",
        "n = int(s)\n",
        "print(n) \n",
        "print(type(n)) "
      ]
    },
    {
      "cell_type": "code",
      "execution_count": 9,
      "id": "7704fc55-da28-4e34-aef3-39275086c12b",
      "metadata": {
        "trusted": true
      },
      "outputs": [
        {
          "name": "stdout",
          "output_type": "stream",
          "text": [
            "456\n",
            "<class 'str'>\n"
          ]
        }
      ],
      "source": [
        "# de int a str\n",
        "num = 456\n",
        "texto = str(num)\n",
        "print(texto)\n",
        "print(type(texto))"
      ]
    },
    {
      "cell_type": "code",
      "execution_count": null,
      "id": "5524ce13-ffc0-4272-b1ff-d740e2c08416",
      "metadata": {
        "trusted": true
      },
      "outputs": [],
      "source": [
        "#Mencione las diferencias que observa\n",
        "'''Que las decimales se quitan al momento de hacerlo entero y cuando se hace flotante puedes poner decimales'''"
      ]
    },
    {
      "cell_type": "code",
      "execution_count": 22,
      "id": "723d0e22-9936-46ac-a979-5bf05d81738c",
      "metadata": {
        "trusted": true
      },
      "outputs": [
        {
          "name": "stdout",
          "output_type": "stream",
          "text": [
            "El doble es: 2\n"
          ]
        }
      ],
      "source": [
        "#convertir string a número para poder hacer operaciones\n",
        "entrada = (\"1\") \n",
        "numero = int(entrada)\n",
        "doble = numero * 2\n",
        "print(f\"El doble es: {doble}\")\n",
        "\n"
      ]
    },
    {
      "cell_type": "code",
      "execution_count": 24,
      "id": "b4539ca4-65fb-4af1-baea-f91d1f535351",
      "metadata": {
        "trusted": true
      },
      "outputs": [
        {
          "name": "stdout",
          "output_type": "stream",
          "text": [
            "[1, 2, 3]\n"
          ]
        }
      ],
      "source": [
        "# string a datos\n",
        "datos = [\"1\", \"2\", \"3\"]\n",
        "numeros = list(map(int, datos))\n",
        "print(numeros) "
      ]
    },
    {
      "cell_type": "code",
      "execution_count": 26,
      "id": "b4fd2ab5-fa6c-49c3-a55e-076175c428c2",
      "metadata": {
        "trusted": true
      },
      "outputs": [
        {
          "data": {
            "text/plain": [
              "' Realiza los siguientes programas y súbelos a github.\\n1. al usuario una temperatura en Celsius (como string) y conviértela a float. Luego calcula y muestra la temperatura en Fahrenheit con esta fórmula:\\nFahrenheit = (Celsius × 9/5) + 32\\n\\n2. Pide un número al usuario (puede ser entero o decimal), conviértelo a string y muestra cuántos caracteres.\\n'"
            ]
          },
          "execution_count": 26,
          "metadata": {},
          "output_type": "execute_result"
        }
      ],
      "source": [
        "''' Realiza los siguientes programas y súbelos a github.\n",
        "1. al usuario una temperatura en Celsius (como string) y conviértela a float. Luego calcula y muestra la temperatura en Fahrenheit con esta fórmula:\n",
        "Fahrenheit = (Celsius × 9/5) + 32\n",
        "\n",
        "2. Pide un número al usuario (puede ser entero o decimal), conviértelo a string y muestra cuántos caracteres.\n",
        "''' "
      ]
    },
    {
      "cell_type": "code",
      "execution_count": null,
      "id": "ae26c86e-d132-4384-9ca8-ee102b39aed5",
      "metadata": {
        "trusted": true
      },
      "outputs": [],
      "source": [
        "celsius = float(input(\"Introduce la temperatura en Celsius: \"))\n",
        "fahrenheit = (celsius * 9/5) + 32\n",
        "print(f\"La temperatura en Fahrenheit es: {fahrenheit:.2f}\")"
      ]
    },
    {
      "cell_type": "code",
      "execution_count": 1,
      "id": "258e3fb1-b300-479d-89cd-42cc2dd4caa8",
      "metadata": {
        "trusted": true
      },
      "outputs": [
        {
          "ename": "<class 'TypeError'>",
          "evalue": "object of type 'PyodideFuture' has no len()",
          "output_type": "error",
          "traceback": [
            "\u001b[0;31m---------------------------------------------------------------------------\u001b[0m",
            "\u001b[0;31mTypeError\u001b[0m                                 Traceback (most recent call last)",
            "Cell \u001b[0;32mIn[1], line 2\u001b[0m\n\u001b[1;32m      1\u001b[0m numero \u001b[38;5;241m=\u001b[39m \u001b[38;5;28minput\u001b[39m(\u001b[38;5;124m\"\u001b[39m\u001b[38;5;124mIntroduce un número: \u001b[39m\u001b[38;5;124m\"\u001b[39m)\n\u001b[0;32m----> 2\u001b[0m cantidad_caracteres \u001b[38;5;241m=\u001b[39m \u001b[38;5;28;43mlen\u001b[39;49m\u001b[43m(\u001b[49m\u001b[43mnumero\u001b[49m\u001b[43m)\u001b[49m\n\u001b[1;32m      4\u001b[0m \u001b[38;5;28mprint\u001b[39m(\u001b[38;5;124mf\u001b[39m\u001b[38;5;124m\"\u001b[39m\u001b[38;5;124mEl número tiene \u001b[39m\u001b[38;5;132;01m{\u001b[39;00mcantidad_caracteres\u001b[38;5;132;01m}\u001b[39;00m\u001b[38;5;124m caracteres.\u001b[39m\u001b[38;5;124m\"\u001b[39m)\n",
            "\u001b[0;31mTypeError\u001b[0m: object of type 'PyodideFuture' has no len()"
          ]
        },
        {
          "name": "stdout",
          "output_type": "stream",
          "text": [
            "Introduce un número:  6\n"
          ]
        }
      ],
      "source": [
        "numero = input(\"Introduce un número: \")\n",
        "cantidad_caracteres = len(numero)\n",
        "\n",
        "print(f\"El número tiene {cantidad_caracteres} caracteres.\")"
      ]
    },
    {
      "cell_type": "code",
      "execution_count": null,
      "id": "0ea4bc4c-a6d6-4cc8-bd0a-be6572224678",
      "metadata": {
        "trusted": true
      },
      "outputs": [],
      "source": []
    }
  ],
  "metadata": {
    "kernelspec": {
      "display_name": "Python (Pyodide)",
      "language": "python",
      "name": "python"
    },
    "language_info": {
      "codemirror_mode": {
        "name": "python",
        "version": 3
      },
      "file_extension": ".py",
      "mimetype": "text/x-python",
      "name": "python",
      "nbconvert_exporter": "python",
      "pygments_lexer": "ipython3",
      "version": "3.8"
    }
  },
  "nbformat": 4,
  "nbformat_minor": 5
}
